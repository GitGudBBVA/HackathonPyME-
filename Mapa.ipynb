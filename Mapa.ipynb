{
  "nbformat": 4,
  "nbformat_minor": 0,
  "metadata": {
    "colab": {
      "provenance": []
    },
    "kernelspec": {
      "name": "python3",
      "display_name": "Python 3"
    },
    "language_info": {
      "name": "python"
    }
  },
  "cells": [
    {
      "cell_type": "markdown",
      "source": [
        "Token DENUE:  418a7f19-f47b-6ac4-5279-94d040b21195"
      ],
      "metadata": {
        "id": "rCyddPx4rG42"
      }
    },
    {
      "cell_type": "code",
      "execution_count": 5,
      "metadata": {
        "id": "v_X16NpvrAq_"
      },
      "outputs": [],
      "source": [
        "import requests\n",
        "import json\n",
        "import pandas as pd"
      ]
    },
    {
      "cell_type": "code",
      "source": [
        "datos=pd.read_csv('https://raw.githubusercontent.com/GitGudBBVA/HackathonPyME-/main/HackatonBBVA/Final_Data_Hackathon_2022.csv')"
      ],
      "metadata": {
        "id": "2aB-MX9V0en5"
      },
      "execution_count": 6,
      "outputs": []
    },
    {
      "cell_type": "code",
      "source": [
        "nombres=datos['NombComp']"
      ],
      "metadata": {
        "id": "WQKAmXmI1rNZ"
      },
      "execution_count": 7,
      "outputs": []
    },
    {
      "cell_type": "code",
      "source": [
        "len(nombres)"
      ],
      "metadata": {
        "colab": {
          "base_uri": "https://localhost:8080/"
        },
        "id": "GkFyBV8V-SoO",
        "outputId": "c9ab1968-e2a9-4136-bdfe-31bb749e298c"
      },
      "execution_count": 8,
      "outputs": [
        {
          "output_type": "execute_result",
          "data": {
            "text/plain": [
              "32618"
            ]
          },
          "metadata": {},
          "execution_count": 8
        }
      ]
    },
    {
      "cell_type": "code",
      "source": [
        "nombres[0][:10]"
      ],
      "metadata": {
        "colab": {
          "base_uri": "https://localhost:8080/",
          "height": 35
        },
        "id": "jDitskMv7TO7",
        "outputId": "02aeb047-307c-49fe-cd95-8a4a3e52dc29"
      },
      "execution_count": 9,
      "outputs": [
        {
          "output_type": "execute_result",
          "data": {
            "text/plain": [
              "'CENTRO PAP'"
            ],
            "application/vnd.google.colaboratory.intrinsic+json": {
              "type": "string"
            }
          },
          "metadata": {},
          "execution_count": 9
        }
      ]
    },
    {
      "cell_type": "code",
      "source": [
        "a=nombres[0][0:10]\n",
        "r1=requests.get(f'https://www.inegi.org.mx/app/api/denue/v1/consulta/Nombre/{a}/00/1/1000000/418a7f19-f47b-6ac4-5279-94d040b21195')\n",
        "df1=pd.DataFrame(r1.json())\n",
        "df1.head(2)"
      ],
      "metadata": {
        "id": "qTz-KVz67kTq"
      },
      "execution_count": null,
      "outputs": []
    },
    {
      "cell_type": "code",
      "source": [
        "a=nombres[1][0:10]\n",
        "r2=requests.get(f'https://www.inegi.org.mx/app/api/denue/v1/consulta/Nombre/{a}/00/1/1000/418a7f19-f47b-6ac4-5279-94d040b21195')\n",
        "df2=pd.DataFrame(r2.json())\n",
        "df2.head(2)"
      ],
      "metadata": {
        "id": "iwI-ltFU8cxJ"
      },
      "execution_count": null,
      "outputs": []
    },
    {
      "cell_type": "code",
      "source": [
        "union=pd.concat([df1,df2])"
      ],
      "metadata": {
        "id": "WQujmt7T9tpm"
      },
      "execution_count": 12,
      "outputs": []
    },
    {
      "cell_type": "code",
      "source": [
        "data=pd.DataFrame()\n",
        "for i in range(0,100): \n",
        "    a=nombres[i][0:10]\n",
        "    b=pd.DataFrame(requests.get(f'https://www.inegi.org.mx/app/api/denue/v1/consulta/Nombre/{a}/00/1/10000/418a7f19-f47b-6ac4-5279-94d040b21195').json())\n",
        "    data=data.reset_index(drop=True)\n",
        "    data=pd.concat([data,b])\n",
        "data=data.reset_index(drop=True)\n",
        "    "
      ],
      "metadata": {
        "id": "yD1oL9F0-Hs6"
      },
      "execution_count": null,
      "outputs": []
    },
    {
      "cell_type": "code",
      "source": [
        "busca=requests.get('https://www.inegi.org.mx/app/api/denue/v1/consulta/BuscarAreaAct/00/0/0/0/0/0/0/0/0/0/1/10000/0/418a7f19-f47b-6ac4-5279-94d040b21195')\n",
        "inegi=pd.DataFrame(busca.json())\n",
        "inegi"
      ],
      "metadata": {
        "id": "h19jOP60mlmh"
      },
      "execution_count": null,
      "outputs": []
    },
    {
      "cell_type": "code",
      "source": [
        "dir=requests.get('https://www.inegi.org.mx/app/api/denue/v1/consulta/Buscar/todos/21.85717833,-102.28487238/5000/418a7f19-f47b-6ac4-5279-94d040b21195')\n",
        "dir=pd.DataFrame(dir.json())\n",
        "df=dir[['Nombre','Longitud','Latitud']].copy()"
      ],
      "metadata": {
        "id": "vNPARBLInhoW"
      },
      "execution_count": 15,
      "outputs": []
    },
    {
      "cell_type": "code",
      "source": [
        "pip install folium"
      ],
      "metadata": {
        "id": "cCTNugsa1hzm"
      },
      "execution_count": null,
      "outputs": []
    },
    {
      "cell_type": "code",
      "source": [
        "df['Longitud']=df['Longitud'].astype(float)\n",
        "df['Latitud']=df['Latitud'].astype(float)"
      ],
      "metadata": {
        "id": "spHuDavn9kF_"
      },
      "execution_count": 16,
      "outputs": []
    },
    {
      "cell_type": "code",
      "source": [
        "import folium"
      ],
      "metadata": {
        "id": "5BPsni3O8Ikv"
      },
      "execution_count": 18,
      "outputs": []
    },
    {
      "cell_type": "code",
      "source": [
        "map=folium.Map(location=[df.Latitud.mean(),df.Longitud.mean()],zoom_start=20,control_scale=True)\n",
        "for index,location_info in df.iterrows():\n",
        "  folium.Marker([location_info['Latitud'],location_info['Longitud']],popup=location_info['Nombre']).add_to(map)\n",
        "map"
      ],
      "metadata": {
        "id": "BhrArGDy7yIx"
      },
      "execution_count": null,
      "outputs": []
    }
  ]
}